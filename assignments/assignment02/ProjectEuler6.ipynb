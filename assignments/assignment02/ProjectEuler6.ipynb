{
 "cells": [
  {
   "cell_type": "markdown",
   "metadata": {
    "nbgrader": {}
   },
   "source": [
    "# Project Euler: Problem 6"
   ]
  },
  {
   "cell_type": "markdown",
   "metadata": {
    "nbgrader": {}
   },
   "source": [
    "https://projecteuler.net/problem=6\n",
    "\n",
    "The sum of the squares of the first ten natural numbers is,\n",
    "\n",
    "$$1^2 + 2^2 + ... + 10^2 = 385$$\n",
    "\n",
    "The square of the sum of the first ten natural numbers is,\n",
    "\n",
    "$$(1 + 2 + ... + 10)^2 = 552 = 3025$$\n",
    "\n",
    "Hence the difference between the sum of the squares of the first ten natural numbers and the square of the sum is 3025 − 385 = 2640."
   ]
  },
  {
   "cell_type": "code",
   "execution_count": 14,
   "metadata": {
    "collapsed": false
   },
   "outputs": [
    {
     "name": "stdout",
     "output_type": "stream",
     "text": [
      "sum of squares= 338350\n",
      "square of sums= 25502500\n",
      "square of sums-sum of squares= 25164150\n"
     ]
    }
   ],
   "source": [
    "\n",
    "list = range(101)       #makes a list with numbers 1-100\n",
    "def sum_of_squares(list):\n",
    "   count=0              #starting variable\n",
    "   for x in list:\n",
    "       count=count+x**2 #squares the number in the range then re defines the stariting variabel\n",
    "   return count\n",
    "x=sum_of_squares(list)  #calls sum of squares function\n",
    "print (\"sum of squares=\",x)          #prints the sum of the squares\n",
    "def square_of_sums(list):\n",
    "   count=0              #staring variable\n",
    "   for x in list:\n",
    "       count=count+x    #adds numbers in the range\n",
    "   square=count**2      #then squares that value\n",
    "   return square\n",
    "y=square_of_sums(list)  #calls square of sums function \n",
    "print (\"square of sums=\",y)          # prints the sum of the squares\n",
    "print (\"square of sums-sum of squares=\",y-x)      #prints the sum of the squares minus the square of the sums"
   ]
  },
  {
   "cell_type": "code",
   "execution_count": null,
   "metadata": {
    "collapsed": false,
    "deletable": false,
    "nbgrader": {
     "checksum": "6cff4e8e53b15273846c3aecaea84a3d",
     "solution": true
    }
   },
   "outputs": [],
   "source": []
  },
  {
   "cell_type": "code",
   "execution_count": 3,
   "metadata": {
    "collapsed": true,
    "deletable": false,
    "nbgrader": {
     "checksum": "4a8ce9efca8c824de365eec816018842",
     "grade": true,
     "grade_id": "projecteuler6",
     "points": 10
    }
   },
   "outputs": [],
   "source": [
    "# This cell will be used for grading, leave it at the end of the notebook."
   ]
  },
  {
   "cell_type": "code",
   "execution_count": null,
   "metadata": {
    "collapsed": true
   },
   "outputs": [],
   "source": []
  }
 ],
 "metadata": {
  "kernelspec": {
   "display_name": "Python 3",
   "language": "python",
   "name": "python3"
  },
  "language_info": {
   "codemirror_mode": {
    "name": "ipython",
    "version": 3
   },
   "file_extension": ".py",
   "mimetype": "text/x-python",
   "name": "python",
   "nbconvert_exporter": "python",
   "pygments_lexer": "ipython3",
   "version": "3.4.0"
  }
 },
 "nbformat": 4,
 "nbformat_minor": 0
}
