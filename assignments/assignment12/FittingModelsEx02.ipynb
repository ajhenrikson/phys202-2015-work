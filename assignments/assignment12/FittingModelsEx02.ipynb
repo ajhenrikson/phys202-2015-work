{
 "cells": [
  {
   "cell_type": "markdown",
   "metadata": {
    "nbgrader": {}
   },
   "source": [
    "# Fitting Models Exercise 2"
   ]
  },
  {
   "cell_type": "markdown",
   "metadata": {
    "nbgrader": {}
   },
   "source": [
    "## Imports"
   ]
  },
  {
   "cell_type": "code",
   "execution_count": 3,
   "metadata": {
    "collapsed": true,
    "nbgrader": {}
   },
   "outputs": [],
   "source": [
    "%matplotlib inline\n",
    "import matplotlib.pyplot as plt\n",
    "import numpy as np\n",
    "import scipy.optimize as opt"
   ]
  },
  {
   "cell_type": "markdown",
   "metadata": {
    "nbgrader": {}
   },
   "source": [
    "## Fitting a decaying oscillation"
   ]
  },
  {
   "cell_type": "markdown",
   "metadata": {
    "nbgrader": {}
   },
   "source": [
    "For this problem you are given a raw dataset in the file `decay_osc.npz`. This file contains three arrays:\n",
    "\n",
    "* `tdata`: an array of time values\n",
    "* `ydata`: an array of y values\n",
    "* `dy`: the absolute uncertainties (standard deviations) in y\n",
    "\n",
    "Your job is to fit the following model to this data:\n",
    "\n",
    "$$ y(t) = A e^{-\\lambda t} \\cos{\\omega t + \\delta} $$\n",
    "\n",
    "First, import the data using NumPy and make an appropriately styled error bar plot of the raw data."
   ]
  },
  {
   "cell_type": "code",
   "execution_count": 4,
   "metadata": {
    "collapsed": false,
    "deletable": false,
    "nbgrader": {
     "checksum": "6cff4e8e53b15273846c3aecaea84a3d",
     "solution": true
    }
   },
   "outputs": [],
   "source": [
    "def modl(t,A,o,l,d):\n",
    "    return A*np.exp(-1*t)*np.cos(o*t)+d"
   ]
  },
  {
   "cell_type": "code",
   "execution_count": 5,
   "metadata": {
    "collapsed": false
   },
   "outputs": [
    {
     "ename": "NameError",
     "evalue": "name 'tdata' is not defined",
     "output_type": "error",
     "traceback": [
      "\u001b[1;31m---------------------------------------------------------------------------\u001b[0m",
      "\u001b[1;31mNameError\u001b[0m                                 Traceback (most recent call last)",
      "\u001b[1;32m<ipython-input-5-d89d35998462>\u001b[0m in \u001b[0;36m<module>\u001b[1;34m()\u001b[0m\n\u001b[1;32m----> 1\u001b[1;33m \u001b[0mthetabest\u001b[0m\u001b[1;33m,\u001b[0m\u001b[0mthetacov\u001b[0m\u001b[1;33m=\u001b[0m\u001b[0mopt\u001b[0m\u001b[1;33m.\u001b[0m\u001b[0mcurve_fit\u001b[0m\u001b[1;33m(\u001b[0m\u001b[0mmodl\u001b[0m\u001b[1;33m,\u001b[0m\u001b[0mtdata\u001b[0m\u001b[1;33m,\u001b[0m\u001b[0mydata\u001b[0m\u001b[1;33m,\u001b[0m\u001b[0mnp\u001b[0m\u001b[1;33m.\u001b[0m\u001b[0marray\u001b[0m\u001b[1;33m(\u001b[0m\u001b[1;33m(\u001b[0m\u001b[1;36m6\u001b[0m\u001b[1;33m,\u001b[0m\u001b[1;36m1\u001b[0m\u001b[1;33m,\u001b[0m\u001b[1;36m1\u001b[0m\u001b[1;33m,\u001b[0m\u001b[1;36m0\u001b[0m\u001b[1;33m)\u001b[0m\u001b[1;33m)\u001b[0m\u001b[1;33m,\u001b[0m\u001b[0mdy\u001b[0m\u001b[1;33m,\u001b[0m\u001b[0mabsolute_sigma\u001b[0m\u001b[1;33m=\u001b[0m\u001b[1;32mTrue\u001b[0m\u001b[1;33m)\u001b[0m\u001b[1;33m\u001b[0m\u001b[0m\n\u001b[0m",
      "\u001b[1;31mNameError\u001b[0m: name 'tdata' is not defined"
     ]
    }
   ],
   "source": [
    "thetabest,thetacov=opt.curve_fit(modl,tdata,ydata,np.array((6,1,1,0)),dy,absolute_sigma=True)"
   ]
  },
  {
   "cell_type": "code",
   "execution_count": null,
   "metadata": {
    "collapsed": true,
    "deletable": false,
    "nbgrader": {
     "checksum": "8fe685c8222cc4b0b71fde4d0409d50f",
     "grade": true,
     "grade_id": "fittingmodelsex02a",
     "points": 5
    }
   },
   "outputs": [],
   "source": [
    "assert True # leave this to grade the data import and raw data plot"
   ]
  },
  {
   "cell_type": "markdown",
   "metadata": {
    "nbgrader": {}
   },
   "source": [
    "Now, using `curve_fit` to fit this model and determine the estimates and uncertainties for the parameters:\n",
    "\n",
    "* Print the parameters estimates and uncertainties.\n",
    "* Plot the raw and best fit model.\n",
    "* You will likely have to pass an initial guess to `curve_fit` to get a good fit.\n",
    "* Treat the uncertainties in $y$ as *absolute errors* by passing `absolute_sigma=True`. "
   ]
  },
  {
   "cell_type": "code",
   "execution_count": null,
   "metadata": {
    "collapsed": false,
    "deletable": false,
    "nbgrader": {
     "checksum": "6cff4e8e53b15273846c3aecaea84a3d",
     "solution": true
    }
   },
   "outputs": [],
   "source": [
    "# YOUR CODE HERE\n",
    "raise NotImplementedError()"
   ]
  },
  {
   "cell_type": "code",
   "execution_count": null,
   "metadata": {
    "collapsed": true,
    "deletable": false,
    "nbgrader": {
     "checksum": "abacc1ad72e3412252e4ed47c8f65897",
     "grade": true,
     "grade_id": "fittingmodelsex02b",
     "points": 5
    }
   },
   "outputs": [],
   "source": [
    "assert True # leave this cell for grading the fit; should include a plot and printout of the parameters+errors"
   ]
  }
 ],
 "metadata": {
  "kernelspec": {
   "display_name": "Python 3",
   "language": "python",
   "name": "python3"
  },
  "language_info": {
   "codemirror_mode": {
    "name": "ipython",
    "version": 3
   },
   "file_extension": ".py",
   "mimetype": "text/x-python",
   "name": "python",
   "nbconvert_exporter": "python",
   "pygments_lexer": "ipython3",
   "version": "3.4.0"
  }
 },
 "nbformat": 4,
 "nbformat_minor": 0
}
