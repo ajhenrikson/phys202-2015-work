{
 "cells": [
  {
   "cell_type": "markdown",
   "metadata": {
    "nbgrader": {}
   },
   "source": [
    "# LaTeX Exercise 1"
   ]
  },
  {
   "cell_type": "markdown",
   "metadata": {
    "nbgrader": {}
   },
   "source": [
    "The images of the equations on this page were taken from the Wikipedia pages referenced for each equation."
   ]
  },
  {
   "cell_type": "markdown",
   "metadata": {
    "nbgrader": {}
   },
   "source": [
    "## Imports"
   ]
  },
  {
   "cell_type": "code",
   "execution_count": 1,
   "metadata": {
    "collapsed": true,
    "nbgrader": {}
   },
   "outputs": [],
   "source": [
    "from IPython.display import Image"
   ]
  },
  {
   "cell_type": "markdown",
   "metadata": {
    "nbgrader": {}
   },
   "source": [
    "## Typesetting equations"
   ]
  },
  {
   "cell_type": "markdown",
   "metadata": {
    "nbgrader": {}
   },
   "source": [
    "In the following cell, use Markdown and LaTeX to typeset the equation for the probability density of the normal distribution $f(x, \\mu, \\sigma)$, which can be found [here](http://en.wikipedia.org/wiki/Normal_distribution). Following the main equation, write a sentence that defines all of the variable in the equation."
   ]
  },
  {
   "cell_type": "markdown",
   "metadata": {
    "collapsed": false,
    "nbgrader": {}
   },
   "source": [
    "\\begin{equation*}\n",
    "f(x,\\mu,\\sigma)=\\frac{1}{\\sigma\\sqrt{2pi}}e^{-\\frac{(x-\\mu)^{2}}{2\\sigma^{2}}}\n",
    "\\end{equation*}"
   ]
  },
  {
   "cell_type": "markdown",
   "metadata": {},
   "source": [
    "In this equation $\\mu$ is the mean $\\sigma$ is the standard deviation and x is the position"
   ]
  },
  {
   "cell_type": "markdown",
   "metadata": {
    "nbgrader": {}
   },
   "source": [
    "In the following cell, use Markdown and LaTeX to typeset the equation for the time-dependent Schrodinger equation for non-relativistic particles shown [here](http://en.wikipedia.org/wiki/Schr%C3%B6dinger_equation#Time-dependent_equation) (use the version that includes the Laplacian and potential energy). Following the main equation, write a sentence that defines all of the variable in the equation."
   ]
  },
  {
   "cell_type": "markdown",
   "metadata": {
    "collapsed": false,
    "nbgrader": {}
   },
   "source": [
    "\\begin{equation*}\n",
    "i\\hbar\\frac{\\partial}{\\partial t}\\Psi(r,t)=[-\\frac{\\hbar^{2}}{2\\mu}\\nabla^{2}+V(r,t)]\\Psi(r,t)\n",
    "\\end{equation*}"
   ]
  },
  {
   "cell_type": "markdown",
   "metadata": {
    "deletable": false,
    "nbgrader": {
     "checksum": "4d858b55aeb9117b8cfa6f706ab5b617",
     "grade": true,
     "grade_id": "latexex01b",
     "points": 4,
     "solution": true
    }
   },
   "source": [
    "i is the imaginary number $(-1)^{1/2}$, $\\hbar$ is a constant (plancks) $\\frac{\\partial}{\\partial t}$ is the partial derivative with respect to time, $\\mu$ is the reduced mass, $\\nabla^{2}$ is the lapalacian operator,Vis the potential energy and $\\Psi$ is the wave function"
   ]
  },
  {
   "cell_type": "markdown",
   "metadata": {
    "nbgrader": {}
   },
   "source": [
    "In the following cell, use Markdown and LaTeX to typeset the equation for the Laplacian squared ($\\Delta=\\nabla^2$) acting on a scalar field $f(r,\\theta,\\phi)$ in spherical polar coordinates found [here](http://en.wikipedia.org/wiki/Laplace_operator#Two_dimensions). Following the main equation, write a sentence that defines all of the variable in the equation."
   ]
  },
  {
   "cell_type": "markdown",
   "metadata": {
    "collapsed": false,
    "nbgrader": {}
   },
   "source": [
    "\\begin{equation*}\n",
    "\\Delta f=\\frac{1}{r^{2}}\\frac{\\partial}{\\partial r}(r^{2}\\frac{\\partial f}{\\partial \\theta})+\\frac{1}{r^{2}sin\\theta}\n",
    "\\frac{\\partial}{\\partial \\theta}(sin\\theta\\frac{\\partial f}{\\partial \\theta})+\\frac{1}{r^{2}sin^{2}\\theta}\\frac{\\partial ^{2} f}{\\partial \\varphi^{2}}\n",
    "\\end{equation*}"
   ]
  },
  {
   "cell_type": "markdown",
   "metadata": {
    "deletable": false,
    "nbgrader": {
     "checksum": "625624933082a6695c8fd5512a808b77",
     "grade": true,
     "grade_id": "latexex01c",
     "points": 4,
     "solution": true
    }
   },
   "source": [
    "r is the radial position, $\\theta$ is the angle"
   ]
  },
  {
   "cell_type": "code",
   "execution_count": null,
   "metadata": {
    "collapsed": true,
    "deletable": false,
    "nbgrader": {
     "checksum": "19b733e9b9c40a9d640d0ff730227a31",
     "grade": true,
     "grade_id": "latexex01a",
     "points": 2,
     "solution": true
    }
   },
   "outputs": [],
   "source": []
  }
 ],
 "metadata": {
  "kernelspec": {
   "display_name": "Python 3",
   "language": "python",
   "name": "python3"
  },
  "language_info": {
   "codemirror_mode": {
    "name": "ipython",
    "version": 3
   },
   "file_extension": ".py",
   "mimetype": "text/x-python",
   "name": "python",
   "nbconvert_exporter": "python",
   "pygments_lexer": "ipython3",
   "version": "3.4.0"
  }
 },
 "nbformat": 4,
 "nbformat_minor": 0
}
